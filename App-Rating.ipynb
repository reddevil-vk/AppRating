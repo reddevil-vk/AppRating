{
 "cells": [
  {
   "cell_type": "markdown",
   "source": [
    "## Google App Rating Data"
   ],
   "metadata": {}
  },
  {
   "cell_type": "code",
   "execution_count": null,
   "source": [
    "import pandas as pd"
   ],
   "outputs": [],
   "metadata": {}
  },
  {
   "cell_type": "code",
   "execution_count": null,
   "source": [
    "df = pd.read_csv(\"/Users/vaibhavk/Projects/Python Project/googleplaystore.csv\")\n",
    "df.head()"
   ],
   "outputs": [],
   "metadata": {}
  },
  {
   "cell_type": "markdown",
   "source": [
    "### Removing Nulls from the dataset"
   ],
   "metadata": {}
  },
  {
   "cell_type": "code",
   "execution_count": null,
   "source": [
    "df.isnull().sum()"
   ],
   "outputs": [],
   "metadata": {}
  },
  {
   "cell_type": "code",
   "execution_count": null,
   "source": [
    "df.shape"
   ],
   "outputs": [],
   "metadata": {}
  },
  {
   "cell_type": "code",
   "execution_count": null,
   "source": [
    "nonNulldf = df.dropna()\n",
    "nonNulldf.shape"
   ],
   "outputs": [],
   "metadata": {}
  },
  {
   "cell_type": "code",
   "execution_count": null,
   "source": [
    "nonNulldf.Size"
   ],
   "outputs": [],
   "metadata": {}
  },
  {
   "cell_type": "markdown",
   "source": [
    "### Update the Size column to convert MB to KB"
   ],
   "metadata": {}
  },
  {
   "cell_type": "code",
   "execution_count": null,
   "source": [
    "def update(size):\n",
    "    if 'M' in size:\n",
    "        i=size[:-1]\n",
    "        i=float(i)*1000\n",
    "        return i\n",
    "    elif 'k' in size:\n",
    "        i=size[:-1]\n",
    "        i=float(i)\n",
    "        return i\n",
    "    else:\n",
    "        return None\n",
    "\n",
    "nonNulldf.Size = nonNulldf.Size.map(update)"
   ],
   "outputs": [],
   "metadata": {}
  },
  {
   "cell_type": "code",
   "execution_count": null,
   "source": [
    "nonNulldf.Size"
   ],
   "outputs": [],
   "metadata": {}
  },
  {
   "cell_type": "markdown",
   "source": [
    "### Reformatting the columns and converting them to float"
   ],
   "metadata": {}
  },
  {
   "cell_type": "code",
   "execution_count": null,
   "source": [
    "nonNulldf['Reviews'] = nonNulldf['Reviews'].astype('float')\n",
    "\n",
    "nonNulldf.Installs = nonNulldf.Installs.apply(lambda x: x.replace(',','').replace('+',''))\n",
    "nonNulldf['Installs'] = nonNulldf['Installs'].astype('float')\n",
    "\n",
    "nonNulldf.Price = nonNulldf.Price.apply(lambda x: x.replace('$',''))\n",
    "nonNulldf['Price'] = nonNulldf['Price'].astype('float')"
   ],
   "outputs": [],
   "metadata": {}
  },
  {
   "cell_type": "code",
   "execution_count": null,
   "source": [
    "nonNulldf.dtypes"
   ],
   "outputs": [],
   "metadata": {}
  }
 ],
 "metadata": {
  "orig_nbformat": 4,
  "language_info": {
   "name": "python",
   "version": "3.9.12",
   "mimetype": "text/x-python",
   "codemirror_mode": {
    "name": "ipython",
    "version": 3
   },
   "pygments_lexer": "ipython3",
   "nbconvert_exporter": "python",
   "file_extension": ".py"
  },
  "kernelspec": {
   "name": "python3",
   "display_name": "Python 3.9.12 64-bit (conda)"
  },
  "interpreter": {
   "hash": "f852d339e26ca7a39e79dd86e929697a684618f7d26b4f5f139d31fd6322bcbe"
  }
 },
 "nbformat": 4,
 "nbformat_minor": 2
}